{
  "nbformat": 4,
  "nbformat_minor": 0,
  "metadata": {
    "colab": {
      "provenance": [],
      "authorship_tag": "ABX9TyMS5acJMRhvlWJNPWjp2+jt",
      "include_colab_link": true
    },
    "kernelspec": {
      "name": "python3",
      "display_name": "Python 3"
    },
    "language_info": {
      "name": "python"
    }
  },
  "cells": [
    {
      "cell_type": "markdown",
      "metadata": {
        "id": "view-in-github",
        "colab_type": "text"
      },
      "source": [
        "<a href=\"https://colab.research.google.com/github/misaelcsc/ativ-py/blob/main/Untitled2.ipynb\" target=\"_parent\"><img src=\"https://colab.research.google.com/assets/colab-badge.svg\" alt=\"Open In Colab\"/></a>"
      ]
    },
    {
      "cell_type": "markdown",
      "source": [
        "# Listas"
      ],
      "metadata": {
        "id": "qNMlz2q6KE5X"
      }
    },
    {
      "cell_type": "code",
      "execution_count": null,
      "metadata": {
        "colab": {
          "base_uri": "https://localhost:8080/"
        },
        "id": "4YjSUPMeDwHZ",
        "outputId": "3fafc93e-6b38-4eed-807e-359d0ab9d503"
      },
      "outputs": [
        {
          "output_type": "stream",
          "name": "stdout",
          "text": [
            "[1, 2, 3, 4, 5, 6, 7, 8, 9, 10]\n"
          ]
        }
      ],
      "source": [
        "numeros = [1,2,3,4,5,6,7,8,9,10]\n",
        "print(numeros)"
      ]
    },
    {
      "cell_type": "code",
      "source": [
        "numeros.append(11)\n",
        "numeros.append(12)\n",
        "numeros.append(13)\n",
        "numeros.remove(5)\n",
        "print(numeros)"
      ],
      "metadata": {
        "colab": {
          "base_uri": "https://localhost:8080/"
        },
        "id": "iuFAHT9MHl5x",
        "outputId": "c761118a-3c47-45d0-a4c6-08a141c89154"
      },
      "execution_count": null,
      "outputs": [
        {
          "output_type": "stream",
          "name": "stdout",
          "text": [
            "[1, 2, 3, 4, 6, 7, 8, 9, 10, 11, 12, 13]\n"
          ]
        }
      ]
    },
    {
      "cell_type": "code",
      "source": [
        "numeros.reverse()\n",
        "print(numeros)"
      ],
      "metadata": {
        "colab": {
          "base_uri": "https://localhost:8080/"
        },
        "id": "-xa7AjvEIwwb",
        "outputId": "ce45b4be-adc7-4fbe-d4a1-6bcdc73bdd72"
      },
      "execution_count": null,
      "outputs": [
        {
          "output_type": "stream",
          "name": "stdout",
          "text": [
            "[13, 12, 11, 10, 9, 8, 7, 6, 4, 3, 2, 1]\n"
          ]
        }
      ]
    },
    {
      "cell_type": "markdown",
      "source": [
        "\n",
        "\n",
        "# Tuplas\n",
        "\n"
      ],
      "metadata": {
        "id": "v8LKXepjKA1I"
      }
    },
    {
      "cell_type": "code",
      "source": [
        "dados = (10, 20, 30, 40, 50)"
      ],
      "metadata": {
        "id": "1CjXqP3IJ_zv"
      },
      "execution_count": null,
      "outputs": []
    },
    {
      "cell_type": "code",
      "source": [
        "print(dados[2])"
      ],
      "metadata": {
        "colab": {
          "base_uri": "https://localhost:8080/"
        },
        "id": "RR_l5kwjS6G-",
        "outputId": "e78c4726-e0cc-4fa7-80d0-f309e8c94808"
      },
      "execution_count": null,
      "outputs": [
        {
          "output_type": "stream",
          "name": "stdout",
          "text": [
            "30\n"
          ]
        }
      ]
    },
    {
      "cell_type": "code",
      "source": [
        "dados[1] = 15\n",
        "# Não é possível modificar o elemento da tupla, pois tuplas são imutáveis, seus elementos são fixos e não podem ser alterados diretamente."
      ],
      "metadata": {
        "colab": {
          "base_uri": "https://localhost:8080/",
          "height": 141
        },
        "id": "NBFaIpz6TQpF",
        "outputId": "4f85d801-38c1-40be-d0b1-6eed15b4f681"
      },
      "execution_count": null,
      "outputs": [
        {
          "output_type": "error",
          "ename": "TypeError",
          "evalue": "'tuple' object does not support item assignment",
          "traceback": [
            "\u001b[0;31m---------------------------------------------------------------------------\u001b[0m",
            "\u001b[0;31mTypeError\u001b[0m                                 Traceback (most recent call last)",
            "\u001b[0;32m<ipython-input-23-bbd0aed4e4b9>\u001b[0m in \u001b[0;36m<cell line: 0>\u001b[0;34m()\u001b[0m\n\u001b[0;32m----> 1\u001b[0;31m \u001b[0mdados\u001b[0m\u001b[0;34m[\u001b[0m\u001b[0;36m1\u001b[0m\u001b[0;34m]\u001b[0m \u001b[0;34m=\u001b[0m \u001b[0;36m15\u001b[0m\u001b[0;34m\u001b[0m\u001b[0;34m\u001b[0m\u001b[0m\n\u001b[0m",
            "\u001b[0;31mTypeError\u001b[0m: 'tuple' object does not support item assignment"
          ]
        }
      ]
    },
    {
      "cell_type": "markdown",
      "source": [
        "# Dicionários"
      ],
      "metadata": {
        "id": "PdvQlGnA2ttB"
      }
    },
    {
      "cell_type": "code",
      "source": [
        "aluno = {'nome': 'Misael', 'idade': 21, 'nota': 9.0}\n",
        "print(aluno)"
      ],
      "metadata": {
        "colab": {
          "base_uri": "https://localhost:8080/"
        },
        "id": "DLjYQ3Yn2ygD",
        "outputId": "a8f9d5ff-490b-4ee2-b6ff-da5670363517"
      },
      "execution_count": 6,
      "outputs": [
        {
          "output_type": "stream",
          "name": "stdout",
          "text": [
            "{'nome': 'Misael', 'idade': 21, 'nota': 9.0}\n"
          ]
        }
      ]
    },
    {
      "cell_type": "code",
      "source": [
        "aluno['nota'] = 10\n",
        "aluno['curso'] = 'ADS'\n",
        "print(aluno)"
      ],
      "metadata": {
        "id": "CcGSmJD-WUGl",
        "colab": {
          "base_uri": "https://localhost:8080/"
        },
        "outputId": "fdf4eaaf-f148-4fc5-f6df-f9443f4b2dd5"
      },
      "execution_count": 7,
      "outputs": [
        {
          "output_type": "stream",
          "name": "stdout",
          "text": [
            "{'nome': 'Misael', 'idade': 21, 'nota': 10, 'curso': 'ADS'}\n"
          ]
        }
      ]
    },
    {
      "cell_type": "code",
      "source": [
        "del aluno['idade']\n",
        "print(aluno)"
      ],
      "metadata": {
        "colab": {
          "base_uri": "https://localhost:8080/"
        },
        "id": "frTodCRnciyi",
        "outputId": "68d151e7-d786-4b61-d445-31125ccd171f"
      },
      "execution_count": 8,
      "outputs": [
        {
          "output_type": "stream",
          "name": "stdout",
          "text": [
            "{'nome': 'Misael', 'nota': 10, 'curso': 'ADS'}\n"
          ]
        }
      ]
    },
    {
      "cell_type": "markdown",
      "source": [
        "# Funções"
      ],
      "metadata": {
        "id": "_yOcu-3XH9F7"
      }
    },
    {
      "cell_type": "code",
      "source": [
        "def soma(x, y):\n",
        "\n",
        "  return x + y\n",
        "print(soma(5, 5))"
      ],
      "metadata": {
        "id": "VXw9J_oPIHEX",
        "colab": {
          "base_uri": "https://localhost:8080/"
        },
        "outputId": "27c502bf-725b-448c-f549-56788b921628"
      },
      "execution_count": null,
      "outputs": [
        {
          "output_type": "stream",
          "name": "stdout",
          "text": [
            "10\n"
          ]
        }
      ]
    },
    {
      "cell_type": "code",
      "source": [
        "def media(numeros):\n",
        "  return sum(numeros)/len(numeros)\n",
        "\n",
        "numeros = [10,20,30,40,50]\n",
        "print(media(numeros))"
      ],
      "metadata": {
        "colab": {
          "base_uri": "https://localhost:8080/"
        },
        "id": "QoC3hcmxrgPA",
        "outputId": "16c946ce-e9bf-404f-d963-3b17a39b95ac"
      },
      "execution_count": null,
      "outputs": [
        {
          "output_type": "stream",
          "name": "stdout",
          "text": [
            "30.0\n"
          ]
        }
      ]
    },
    {
      "cell_type": "code",
      "source": [
        "def eh_par(numero):\n",
        "  if numero % 2 == 0:\n",
        "    return True\n",
        "\n",
        "  else:\n",
        "    return False\n",
        "\n",
        "print(eh_par(10))\n",
        "print(eh_par(11))"
      ],
      "metadata": {
        "colab": {
          "base_uri": "https://localhost:8080/"
        },
        "id": "P-jjMV1Y1XGa",
        "outputId": "5adc9de4-6419-4f05-a767-76182a0e8afc"
      },
      "execution_count": null,
      "outputs": [
        {
          "output_type": "stream",
          "name": "stdout",
          "text": [
            "True\n",
            "False\n"
          ]
        }
      ]
    }
  ]
}